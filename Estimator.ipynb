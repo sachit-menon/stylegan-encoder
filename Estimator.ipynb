{
  "nbformat": 4,
  "nbformat_minor": 0,
  "metadata": {
    "colab": {
      "name": "Estimator.ipynb",
      "version": "0.3.2",
      "provenance": [],
      "collapsed_sections": [],
      "include_colab_link": true
    },
    "kernelspec": {
      "name": "python3",
      "display_name": "Python 3"
    },
    "accelerator": "GPU"
  },
  "cells": [
    {
      "cell_type": "markdown",
      "metadata": {
        "id": "view-in-github",
        "colab_type": "text"
      },
      "source": [
        "<a href=\"https://colab.research.google.com/github/sachit-menon/stylegan-encoder/blob/tiedlatents/Estimator.ipynb\" target=\"_parent\"><img src=\"https://colab.research.google.com/assets/colab-badge.svg\" alt=\"Open In Colab\"/></a>"
      ]
    },
    {
      "cell_type": "code",
      "metadata": {
        "id": "dxek6oPelK-f",
        "colab_type": "code",
        "outputId": "56717a2a-0cc7-4e57-82bf-2552fe576e8c",
        "colab": {
          "base_uri": "https://localhost:8080/",
          "height": 51
        }
      },
      "source": [
        "from google.colab import drive\n",
        "drive.mount('/content/gdrive')\n",
        "%cd /content/gdrive/My\\ Drive/stylegan-refactor"
      ],
      "execution_count": 0,
      "outputs": [
        {
          "output_type": "stream",
          "text": [
            "Drive already mounted at /content/gdrive; to attempt to forcibly remount, call drive.mount(\"/content/gdrive\", force_remount=True).\n",
            "/content/gdrive/My Drive/stylegan-refactor\n"
          ],
          "name": "stdout"
        }
      ]
    },
    {
      "cell_type": "code",
      "metadata": {
        "id": "jkyelJkNauwg",
        "colab_type": "code",
        "colab": {}
      },
      "source": [
        "!pip install tf-nightly-gpu"
      ],
      "execution_count": 0,
      "outputs": []
    },
    {
      "cell_type": "code",
      "metadata": {
        "id": "95miWGdRkfgC",
        "colab_type": "code",
        "colab": {}
      },
      "source": [
        "import argparse\n",
        "import tensorflow as tf\n",
        "import pickle\n",
        "import numpy as np\n",
        "import sys\n",
        "from training.networks_stylegan import G_synthesis\n",
        "tf.logging.set_verbosity(tf.logging.INFO)\n",
        "\n",
        "def my_model(features, labels, mode, params):\n",
        "  latent = tf.get_variable(\"latent\",shape=(1,18,512),dtype='float32',initializer=tf.initializers.random_normal())\n",
        "  with tf.variable_scope(\"GAN\",reuse=tf.AUTO_REUSE):\n",
        "    out = G_synthesis(latent,use_noise=False)\n",
        "        \n",
        "  tf.train.init_from_checkpoint('StyleGan/model.ckpt',{'G_synthesis_1/': \"GAN/\"})\n",
        "  out = tf.transpose(out,(0,2,3,1),name=\"out_im\")\n",
        "  tf.summary.image('out_summary', out)\n",
        "  \n",
        "  loss = tf.reduce_sum(tf.square(out))\n",
        "  \n",
        "  optimizer = tf.train.AdamOptimizer(learning_rate=0.1)\n",
        "  train_op = optimizer.minimize(loss, global_step=tf.train.get_global_step(),var_list=[latent])\n",
        "  return tf.estimator.EstimatorSpec(mode, loss=loss, train_op=train_op)\n",
        "\n",
        "run_config = tf.estimator.RunConfig(save_checkpoints_steps=None,\n",
        "                                    save_checkpoints_secs=None)\n",
        "\n",
        "classifier = tf.estimator.Estimator(\n",
        "    model_fn=my_model,model_dir = './tf',config = run_config)\n",
        "\n",
        "classifier.train(\n",
        "    input_fn=lambda: None,\n",
        "    steps=2000)\n",
        "\n",
        "print(\"trained\")"
      ],
      "execution_count": 0,
      "outputs": []
    },
    {
      "cell_type": "code",
      "metadata": {
        "id": "LBUS_RSfFlXo",
        "colab_type": "code",
        "colab": {}
      },
      "source": [
        "%reload_ext tensorboard\n",
        "%tensorboard --logdir tf"
      ],
      "execution_count": 0,
      "outputs": []
    }
  ]
}